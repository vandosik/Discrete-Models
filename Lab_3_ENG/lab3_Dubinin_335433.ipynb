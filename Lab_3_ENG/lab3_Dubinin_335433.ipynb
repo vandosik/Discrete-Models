{
 "cells": [
  {
   "cell_type": "markdown",
   "metadata": {},
   "source": [
    "# Task. 3 Discrete Models\n",
    "### Ivan Dubinin, 335433, J41321\n",
    "#### - Implement and compare all (four) models (by average queue size, total working etc.)\n",
    "#### - Draw server's dynamic through the time (for dynamic queues)\n",
    "- Num of servers: 4 (4 or 5 for dynamic case)\n",
    "- Probability to wait for customers: ~50% (fit feasible parameters)\n",
    "- Random arrival & Random Service (the same for all servers)\n",
    "\n"
   ]
  },
  {
   "cell_type": "markdown",
   "metadata": {},
   "source": [
    "### Imports and Distributions definition"
   ]
  },
  {
   "cell_type": "code",
   "execution_count": 72,
   "metadata": {},
   "outputs": [],
   "source": [
    "# -*- coding: cp1251 -*-\n",
    "from DEVS import *\n",
    "import random\n",
    "import numpy as np\n",
    "import matplotlib.pyplot as plt\n",
    "from scipy import stats\n",
    "from prettytable import PrettyTable\n",
    "\n",
    "maxAngents = 1000\n",
    "# Describe srrival rate. Borders for uniform distribution. \n",
    "arrivalRateMin = 1\n",
    "arrivalRateMax = 8\n",
    "\n",
    "# Describe service rate (how long it takes to serve customer). Custom distribution.\n",
    "# Mth exp for arrival is 4.5. We have 4 servers: math.exp.custom.distr = 4.5 * num_servers\n",
    "service_xk = np.arange(13, 20)\n",
    "service_pk = (0.05, 0.11, 0.18, 0.26, 0.22, 0.13, 0.05)\n",
    "custm = stats.rv_discrete(name='custm', values=(service_xk, service_pk))\n"
   ]
  },
  {
   "cell_type": "markdown",
   "metadata": {},
   "source": [
    "### System definitions"
   ]
  },
  {
   "cell_type": "code",
   "execution_count": 73,
   "metadata": {},
   "outputs": [],
   "source": [
    "# ---- Customer Statistics ----\n",
    "class customerStat:\n",
    "    def __init__(self):\n",
    "         self.id = -1\n",
    "         self.serverIdx = -1\n",
    "         self.arrivalTime = -1\n",
    "         self.serviceTime = -1\n",
    "         self.interArrivalTime = 0\n",
    "         self.serviceBegins = -1\n",
    "         self.waitingTimeInQueue = 0\n",
    "         self.serviceEnds = -1\n",
    "         self.timeInSystem = -1\n",
    "         self.idleTimeOfServer = 0"
   ]
  },
  {
   "cell_type": "code",
   "execution_count": 74,
   "metadata": {},
   "outputs": [],
   "source": [
    "# ---- Arrival Event ----\n",
    "class ArrivalEvent:\n",
    "    def __init__(self):\n",
    "         self.eTime = 0.0\n",
    "        \n",
    "    def Execute(self):\n",
    "        customer = customerStat()\n",
    "        customer.id = DEVS.newId\n",
    "        customer.arrivalTime = self.eTime\n",
    "        if(len(DEVS.stats)>0):\n",
    "            customer.interArrivalTime = customer.arrivalTime - DEVS.stats[-1].arrivalTime\n",
    "\n",
    "        print(\"Time %d\"%self.eTime,\" Arrival Event of agent {0}\".format(customer.id))\n",
    "        if(DEVS.newId<maxAngents-1):       \n",
    "            NextArrival = ArrivalEvent()\n",
    "            NextArrival.eTime = self.eTime+random.randint(arrivalRateMin,arrivalRateMax)                \n",
    "            DEVS.EQ.AddEvent(NextArrival)\n",
    "\n",
    "        ServerIdx = DEVS.GetFreeServer()\n",
    "        \n",
    "        if not ServerIdx == -1:\n",
    "        # server is Free\n",
    "            DEVS.Servers[ServerIdx].serverIdle = False\n",
    "            print(\"server[%d] takes customer %d\" % (ServerIdx, customer.id))\n",
    "            Service = ServiceEvent()      \n",
    "            serviceTime = custm.rvs()  \n",
    "            customer.serviceTime = serviceTime\n",
    "            customer.serviceBegins = self.eTime # current time\n",
    "            customer.serverIdx = ServerIdx\n",
    "            Service.eTime = self.eTime+serviceTime            \n",
    "            Service.id = customer.id            \n",
    "            DEVS.EQ.AddEvent(Service)\n",
    "        # server is Busy\n",
    "        else:\n",
    "            if not DEVS.singleQueue:\n",
    "                QueueIdx = DEVS.GetShortestQueue()\n",
    "            else:\n",
    "                QueueIdx = 0\n",
    "            # increase waiting line\n",
    "            DEVS.customerQueues[QueueIdx].append(customer.id)\n",
    "            print(\"add customer %d to customerQueue[%d] = %d\"%(customer.id, QueueIdx, len(DEVS.customerQueues[QueueIdx])))\n",
    "\n",
    "        DEVS.newId = DEVS.newId + 1\n",
    "        DEVS.stats.append(customer)"
   ]
  },
  {
   "cell_type": "code",
   "execution_count": 75,
   "metadata": {},
   "outputs": [],
   "source": [
    "def Resize(Time):        \n",
    "    count_free_active_servers = len([server for server in DEVS.Servers if server.serverIdle and server.Active])\n",
    "    count_active_servers = len([server for server in DEVS.Servers if server.Active])\n",
    "\n",
    "    if count_active_servers < DEVS.NumServers:\n",
    "        if count_free_active_servers == 0:\n",
    "            # Make one server sctive\n",
    "            for idx,server in enumerate(DEVS.Servers):\n",
    "                if not server.Active:\n",
    "                    DEVS.Servers[idx].Active = True\n",
    "                    print(\"Make server[%d] active\" % (idx))\n",
    "                    DEVS.ServerNumStats.append((Time, DEVS.NumServers))\n",
    "    else:\n",
    "        if count_free_active_servers >= 2:\n",
    "            # Make one server not active\n",
    "            idx = DEVS.GetFreeServer()\n",
    "            DEVS.Servers[idx].Active = False\n",
    "            print(\"Make server[%d] not active\" % (idx))\n",
    "            DEVS.ServerNumStats.append((Time, DEVS.NumServers - 1))"
   ]
  },
  {
   "cell_type": "code",
   "execution_count": 76,
   "metadata": {},
   "outputs": [],
   "source": [
    "# ---- Service (END) Event ----\n",
    "class ServiceEvent:\n",
    "    def __init__(self):\n",
    "         self.eTime = 0.0\n",
    "         self.id = 0\n",
    "        \n",
    "    def Execute(self):        \n",
    "        ind = [i for i,val in enumerate(DEVS.stats) if val.id == self.id][0]\n",
    "\n",
    "        ServerIdx = DEVS.stats[ind].serverIdx\n",
    "\n",
    "        DEVS.stats[ind].serviceEnds = self.eTime\n",
    "        DEVS.stats[ind].timeInSystem = DEVS.stats[ind].serviceEnds - DEVS.stats[ind].arrivalTime \n",
    "        DEVS.stats[ind].waitingTimeInQueue = DEVS.stats[ind].serviceBegins - DEVS.stats[ind].arrivalTime # 0 without queue\n",
    "        DEVS.stats[ind].idleTimeOfServer = DEVS.stats[ind].serviceBegins - DEVS.Servers[ServerIdx].lastServedTime\n",
    "        \n",
    "        if DEVS.singleQueue:\n",
    "            QueueIdx = 0\n",
    "        else:\n",
    "            QueueIdx = ServerIdx\n",
    "\n",
    "        print(\"Time %d\"%self.eTime,\"Service of customer %d finished\" % (ind))\n",
    "        if(len(DEVS.customerQueues[QueueIdx])>0):\n",
    "            qid = DEVS.customerQueues[QueueIdx].pop(0)\n",
    "            qind = [i for i,val in enumerate(DEVS.stats) if val.id == qid][0]\n",
    "            Service = ServiceEvent()\n",
    "            serviceTime = custm.rvs()  \n",
    "            Service.eTime = self.eTime+serviceTime\n",
    "            Service.id = qid\n",
    "            DEVS.stats[qind].serverIdx = ServerIdx\n",
    "            DEVS.stats[qind].serviceBegins = self.eTime\n",
    "            DEVS.stats[qind].serviceTime = serviceTime            \n",
    "            DEVS.EQ.AddEvent(Service)\n",
    "            print(\"server[%d] takes customer %d from the queue[%d]\" % (ServerIdx, qid, QueueIdx))\n",
    "        else:\n",
    "            DEVS.Servers[ServerIdx].serverIdle = True\n",
    "            print(\"server[%d] is Idle (do nothing)\" % ServerIdx)\n",
    "        # For dynamic models add/remove one server\n",
    "        if DEVS.dynamicQueues:\n",
    "            Resize(self.eTime)\n",
    "\n",
    "        DEVS.Servers[ServerIdx].lastServedTime = self.eTime"
   ]
  },
  {
   "cell_type": "markdown",
   "metadata": {},
   "source": [
    "### Definition of statistics functions"
   ]
  },
  {
   "cell_type": "code",
   "execution_count": 77,
   "metadata": {},
   "outputs": [],
   "source": [
    "# --- STATISTICS ---\n",
    "table = PrettyTable()\n",
    "table.field_names = [\"Model\", \"Prob of Idle server\", \"Prob customer to wait\", \"Avg  wait time\", \"Avg time customer in the system\", \"Avg queue len\"]\n",
    "\n",
    "def AddStatistics(stats,  model_name):\n",
    "    #  --- store all in file  --- \n",
    "    filename = model_name + \".csv\"\n",
    "    f = open(filename,'w')\n",
    "    f.write(\"Id;Interarrival Time;Arrival Time;Service Time;Time Service Begins;Waiting time in Queue;Time Service Ends;Time Customer Spends in System;Idle time of Server\\n\")\n",
    "    for s in stats:\n",
    "        f.write(\"{0};{1};{2};{3};{4};{5};{6};{7};{8}\\n\".format(s.id,s.interArrivalTime,s.arrivalTime,s.serviceTime,s.serviceBegins,s.waitingTimeInQueue,s.serviceEnds,s.timeInSystem,s.idleTimeOfServer))    \n",
    "    f.close()\n",
    "\n",
    "    # 1) Average waiting time in queue\n",
    "    avTimeInQueue = sum([x.waitingTimeInQueue for x in stats])/len(stats)\n",
    "    # print(\"\\nAverage waiting time: {0:.2f}\".format(avTimeInQueue))\n",
    "\n",
    "    # 2) Probability that a customer has to wait\n",
    "    probToWait = len([x for x in stats if x.waitingTimeInQueue>0])/len(stats)\n",
    "    # print(\"\\nProbability that a customer has to wait: {0:.2f}\".format(probToWait))\n",
    "\n",
    "    # 3) Probability of an Idle server\n",
    "    probIdle = sum([x.idleTimeOfServer for x in stats]) / sum([x.serviceTime for x in stats])\n",
    "    # print(\"\\nProbability of an Idle server: {0:.2f}\".format(probIdle))\n",
    "\n",
    "    # 4) Average service time (theoretical ~18 )\n",
    "    avServiceTime = sum([x.serviceTime for x in stats])/len(stats)\n",
    "    # print(\"\\nAverage service time: {0:.2f}\".format(avServiceTime))\n",
    "\n",
    "    # 5) Average time between arrivals (theoretical 4.5)\n",
    "    avTimeBetwArr = sum([x.interArrivalTime for x in stats])/(len(stats)-1)\n",
    "    # print(\"\\nAverage time between arrivals: {0:.2f}\".format(avTimeBetwArr))\n",
    "\n",
    "    # 6) Average waiting time for those who wait\n",
    "    numOfCustWhoWait = len([x for x in stats if x.waitingTimeInQueue>0])\n",
    "    avTimeWhoWait = sum([x.waitingTimeInQueue for x in stats])/numOfCustWhoWait\n",
    "    # print(\"\\nAverage waiting time for those who wait: {0:.2f}\".format(avTimeWhoWait))\n",
    "\n",
    "    # 7) Average time a customer spends in the system\n",
    "    avTimeInTheSystem1 = sum([x.timeInSystem for x in stats])/len(stats)\n",
    "    # print(\"\\nAverage time a customer spends in the system: {0:.2f}\".format(avTimeInTheSystem1))\n",
    "\n",
    "    avTimeInTheSystem2 = avTimeInQueue + avServiceTime\n",
    "    # print(\"\\nAverage time a customer spends in the system (alternative): {0:.2f}\".format(avTimeInTheSystem2))\n",
    "\n",
    "    avQueueLen = avTimeInQueue / avServiceTime\n",
    "\n",
    "    table.add_row([model_name, probIdle, probToWait, avTimeInQueue, avTimeInTheSystem1, avQueueLen])\n",
    "\n",
    "def PrintStatistics():\n",
    "    print(table)"
   ]
  },
  {
   "cell_type": "code",
   "execution_count": 78,
   "metadata": {},
   "outputs": [],
   "source": [
    "def PrintServerNumPlot(drawin_items = 30):\n",
    "    # To cut long timeline\n",
    "\n",
    "    print(DEVS.ServerNumStats[:drawin_items])\n",
    "\n",
    "    x_data = [stat[0] for stat in DEVS.ServerNumStats]\n",
    "    y_data = [stat[1] for stat in DEVS.ServerNumStats]\n",
    "\n",
    "    plt.figure(figsize = (20, 10))\n",
    "    plt.step(x_data[:drawin_items], y_data[:drawin_items], where = \"post\")\n",
    "    plt.ylim(DEVS.NumServers - 2, DEVS.NumServers + 1)"
   ]
  },
  {
   "cell_type": "markdown",
   "metadata": {},
   "source": [
    "## Simulation\n",
    "### 1. General queue"
   ]
  },
  {
   "cell_type": "code",
   "execution_count": 79,
   "metadata": {},
   "outputs": [],
   "source": [
    "%%capture test\n",
    "# simulation attributes\n",
    "DEVS.Clear()\n",
    "AE = ArrivalEvent()\n",
    "DEVS.EQ.AddEvent(AE)\n",
    "DEVS.singleQueue = True\n",
    "DEVS.dynamicQueues = False\n",
    "DEVS.Servers = []\n",
    "\n",
    "for idx in range(DEVS.NumServers):\n",
    "    server = Server()\n",
    "    DEVS.Servers.append(server)\n",
    "    DEVS.customerQueues[idx] = []\n",
    "\n",
    "\n",
    "DEVS.Servers[-1].Active = False # Set 5th server as inactive\n",
    "\n",
    "# --- SIMULATION ---\n",
    "while DEVS.EQ.QueueSize()>0:\n",
    "    DEVS.ProcessNextEvent()"
   ]
  },
  {
   "cell_type": "code",
   "execution_count": 80,
   "metadata": {},
   "outputs": [],
   "source": [
    "AddStatistics(DEVS.stats, \"general_queue\")"
   ]
  },
  {
   "cell_type": "markdown",
   "metadata": {},
   "source": [
    "### 2. Shortest queue "
   ]
  },
  {
   "cell_type": "code",
   "execution_count": 81,
   "metadata": {},
   "outputs": [],
   "source": [
    "%%capture test\n",
    "# simulation attributes\n",
    "DEVS.Clear()\n",
    "AE = ArrivalEvent()\n",
    "DEVS.EQ.AddEvent(AE)\n",
    "DEVS.singleQueue = False\n",
    "DEVS.dynamicQueues = False\n",
    "DEVS.Servers = []\n",
    "\n",
    "DEVS.Servers = []\n",
    "\n",
    "for idx in range(DEVS.NumServers):\n",
    "    server = Server()\n",
    "    DEVS.Servers.append(server)\n",
    "    DEVS.customerQueues[idx] = []\n",
    "\n",
    "\n",
    "DEVS.Servers[-1].Active = False # Set 5th server as inactive\n",
    "\n",
    "# --- SIMULATION ---\n",
    "while DEVS.EQ.QueueSize()>0:\n",
    "    DEVS.ProcessNextEvent()  "
   ]
  },
  {
   "cell_type": "code",
   "execution_count": 82,
   "metadata": {},
   "outputs": [],
   "source": [
    "AddStatistics(DEVS.stats, \"shortest_queue\")"
   ]
  },
  {
   "cell_type": "markdown",
   "metadata": {},
   "source": [
    "### 3. Dynamic General queue"
   ]
  },
  {
   "cell_type": "code",
   "execution_count": 83,
   "metadata": {},
   "outputs": [],
   "source": [
    "%%capture test\n",
    "# simulation attributes\n",
    "DEVS.Clear()\n",
    "AE = ArrivalEvent()\n",
    "DEVS.EQ.AddEvent(AE)\n",
    "DEVS.singleQueue = True\n",
    "DEVS.dynamicQueues = True\n",
    "DEVS.Servers = []\n",
    "\n",
    "for idx in range(DEVS.NumServers):\n",
    "    server = Server()\n",
    "    DEVS.Servers.append(server)\n",
    "    DEVS.customerQueues[idx] = []\n",
    "\n",
    "\n",
    "DEVS.Servers[-1].Active = False # Set 5th server as inactive\n",
    "\n",
    "# --- SIMULATION ---\n",
    "while DEVS.EQ.QueueSize()>0:\n",
    "    DEVS.ProcessNextEvent()  \n"
   ]
  },
  {
   "cell_type": "code",
   "execution_count": 84,
   "metadata": {},
   "outputs": [
    {
     "name": "stdout",
     "output_type": "stream",
     "text": [
      "[(0.0, 4), (78.0, 5), (87.0, 4), (95.0, 5), (98.0, 4), (107.0, 5), (115.0, 4), (178.0, 5), (184.0, 4), (209.0, 5), (225.0, 4), (252.0, 5), (252.0, 4), (289.0, 5), (292.0, 4), (302.0, 5), (305.0, 4), (311.0, 5), (321.0, 4), (366.0, 5), (367.0, 4), (417.0, 5), (435.0, 4), (448.0, 5), (471.0, 4), (527.0, 5), (528.0, 4), (557.0, 5), (558.0, 4), (582.0, 5)]\n"
     ]
    },
    {
     "data": {
      "image/png": "[encoded data removed]",
      "text/plain": [
       "<Figure size 1440x720 with 1 Axes>"
      ]
     },
     "metadata": {
      "needs_background": "light"
     },
     "output_type": "display_data"
    }
   ],
   "source": [
    "AddStatistics(DEVS.stats, \"dynamic_general_queue\")\n",
    "PrintServerNumPlot()\n"
   ]
  },
  {
   "cell_type": "markdown",
   "metadata": {},
   "source": [
    "### 4. Dynamic Shortest queue"
   ]
  },
  {
   "cell_type": "code",
   "execution_count": 89,
   "metadata": {},
   "outputs": [],
   "source": [
    "%%capture test\n",
    "# simulation attributes\n",
    "DEVS.Clear()\n",
    "AE = ArrivalEvent()\n",
    "DEVS.EQ.AddEvent(AE)\n",
    "DEVS.singleQueue = False\n",
    "DEVS.dynamicQueues = True\n",
    "DEVS.Servers = []\n",
    "\n",
    "for idx in range(DEVS.NumServers):\n",
    "    server = Server()\n",
    "    DEVS.Servers.append(server)\n",
    "    DEVS.customerQueues[idx] = []\n",
    "\n",
    "\n",
    "DEVS.Servers[-1].Active = False # Set 5th server as inactive\n",
    "\n",
    "# --- SIMULATION ---\n",
    "while DEVS.EQ.QueueSize()>0:\n",
    "    DEVS.ProcessNextEvent()\n",
    "\n"
   ]
  },
  {
   "cell_type": "code",
   "execution_count": 86,
   "metadata": {},
   "outputs": [
    {
     "name": "stdout",
     "output_type": "stream",
     "text": [
      "[(0.0, 4), (40.0, 5), (48.0, 4), (55.0, 5), (59.0, 4), (85.0, 5), (88.0, 4), (149.0, 5), (164.0, 4), (250.0, 5), (268.0, 4), (419.0, 5), (448.0, 4), (456.0, 5), (492.0, 4), (500.0, 5), (517.0, 4), (522.0, 5), (537.0, 4), (541.0, 5), (559.0, 4), (565.0, 5), (581.0, 4), (624.0, 5), (640.0, 4), (715.0, 5), (732.0, 4), (736.0, 5), (754.0, 4), (760.0, 5)]\n"
     ]
    },
    {
     "data": {
      "image/png": "[encoded data removed]",
      "text/plain": [
       "<Figure size 1440x720 with 1 Axes>"
      ]
     },
     "metadata": {
      "needs_background": "light"
     },
     "output_type": "display_data"
    }
   ],
   "source": [
    "AddStatistics(DEVS.stats, \"dynamic_shortest_queue\")\n",
    "PrintServerNumPlot()"
   ]
  },
  {
   "cell_type": "markdown",
   "metadata": {},
   "source": [
    "### Statistics"
   ]
  },
  {
   "cell_type": "code",
   "execution_count": 87,
   "metadata": {},
   "outputs": [
    {
     "name": "stdout",
     "output_type": "stream",
     "text": [
      "+------------------------+---------------------+-----------------------+----------------+---------------------------------+----------------------+\n",
      "|         Model          | Prob of Idle server | Prob customer to wait | Avg  wait time | Avg time customer in the system |    Avg queue len     |\n",
      "+------------------------+---------------------+-----------------------+----------------+---------------------------------+----------------------+\n",
      "|     general_queue      | 0.11075791573173772 |          0.56         |      3.75      |              19.794             |  0.2337322363500374  |\n",
      "|     shortest_queue     | 0.12661772025883525 |         0.489         |     5.751      |              21.823             |  0.3578272772523644  |\n",
      "| dynamic_general_queue  | 0.37633739736252797 |         0.261         |     0.883      |              16.959             | 0.054926598656382185 |\n",
      "| dynamic_shortest_queue |  0.3944937062069821 |         0.244         |     2.156      |              18.283             | 0.13368884479444412  |\n",
      "+------------------------+---------------------+-----------------------+----------------+---------------------------------+----------------------+\n"
     ]
    }
   ],
   "source": [
    "PrintStatistics()"
   ]
  },
  {
   "cell_type": "markdown",
   "metadata": {},
   "source": [
    "## Conclusions\n",
    "\n",
    "All four models were implemented, tested and compared.\n",
    "As a result, the best average timing results are shown by \"dynamic_general_queue\" model.The worst results are gained from \"shortest_queue\" model. It is necessary to mention. that models with general queue have higher probability for customer to wait in queue, than shortest queue models. At the same time the amount of waiting time in queue for general queue models is significantly less than for shortest queue models.\n",
    "This is because \"general queue\" models provide more uniform distribution of customers to servers, while for \"shortest queue\" models there is a possible situation where one server is idle and another one has a non empty queue."
   ]
  }
 ],
 "metadata": {
  "interpreter": {
   "hash": "916dbcbb3f70747c44a77c7bcd40155683ae19c65e1c03b4aa3499c5328201f1"
  },
  "kernelspec": {
   "display_name": "Python 3.8.10 64-bit",
   "language": "python",
   "name": "python3"
  },
  "language_info": {
   "codemirror_mode": {
    "name": "ipython",
    "version": 3
   },
   "file_extension": ".py",
   "mimetype": "text/x-python",
   "name": "python",
   "nbconvert_exporter": "python",
   "pygments_lexer": "ipython3",
   "version": "3.8.10"
  },
  "orig_nbformat": 4
 },
 "nbformat": 4,
 "nbformat_minor": 2
}
